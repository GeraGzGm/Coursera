{
 "cells": [
  {
   "cell_type": "markdown",
   "metadata": {},
   "source": []
  },
  {
   "cell_type": "code",
   "execution_count": 1,
   "metadata": {},
   "outputs": [],
   "source": [
    "import cv2\n",
    "import matplotlib.pyplot as plt\n",
    "import numpy as np\n",
    "import os\n",
    "from scipy.ndimage import convolve\n",
    "from math import pi, sin, cos, tan"
   ]
  },
  {
   "cell_type": "code",
   "execution_count": 2,
   "metadata": {},
   "outputs": [],
   "source": [
    "dir_path = \"C:/Users/gerag/Desktop/Coursera/Fisrt Principles of Computer Vision/Features and Boundaries/Edge Detection/\"\n",
    "im_name = \"rubiks.png\""
   ]
  },
  {
   "cell_type": "code",
   "execution_count": 3,
   "metadata": {},
   "outputs": [],
   "source": [
    "img_color = cv2.imread(dir_path+im_name) #Read image in grey scale\n",
    "img = cv2.cvtColor(img_color,cv2.COLOR_BGR2GRAY)\n",
    "\n",
    "ret,thresh = cv2.threshold(img,127,255,0)\n",
    "Moments = cv2.moments(thresh)"
   ]
  },
  {
   "cell_type": "code",
   "execution_count": 5,
   "metadata": {},
   "outputs": [
    {
     "data": {
      "text/plain": [
       "{'m00': 236379645.0,\n",
       " 'm10': 142125368175.0,\n",
       " 'm01': 141187784940.0,\n",
       " 'm20': 119674091862075.0,\n",
       " 'm11': 85559121273390.0,\n",
       " 'm02': 120390502976070.0,\n",
       " 'm30': 1.1312702240332491e+17,\n",
       " 'm21': 7.249772799886307e+16,\n",
       " 'm12': 7.317957331325094e+16,\n",
       " 'm03': 1.1503797517626922e+17,\n",
       " 'mu20': 34219947623558.598,\n",
       " 'mu11': 668707310672.4406,\n",
       " 'mu02': 36060100431199.06,\n",
       " 'mu30': 21811179401028.445,\n",
       " 'mu21': 213160136965666.7,\n",
       " 'mu12': -5117222101350.206,\n",
       " 'mu03': 52779000880812.57,\n",
       " 'nu20': 0.0006124338522863045,\n",
       " 'nu11': 1.1967843984810537e-05,\n",
       " 'nu02': 0.0006453670374909144,\n",
       " 'nu30': 2.5389488974228146e-08,\n",
       " 'nu21': 2.4813087122558655e-07,\n",
       " 'nu12': -5.956745929785963e-09,\n",
       " 'nu03': 6.143784507457597e-08}"
      ]
     },
     "execution_count": 5,
     "metadata": {},
     "output_type": "execute_result"
    }
   ],
   "source": [
    "Moments"
   ]
  },
  {
   "cell_type": "code",
   "execution_count": null,
   "metadata": {},
   "outputs": [],
   "source": []
  }
 ],
 "metadata": {
  "kernelspec": {
   "display_name": "Python 3.8.8 ('ThisOne')",
   "language": "python",
   "name": "python3"
  },
  "language_info": {
   "codemirror_mode": {
    "name": "ipython",
    "version": 3
   },
   "file_extension": ".py",
   "mimetype": "text/x-python",
   "name": "python",
   "nbconvert_exporter": "python",
   "pygments_lexer": "ipython3",
   "version": "3.8.8"
  },
  "orig_nbformat": 4,
  "vscode": {
   "interpreter": {
    "hash": "821310d70b4992712a2baba0307fa79422f77854d6739635a34f51c50a329e5e"
   }
  }
 },
 "nbformat": 4,
 "nbformat_minor": 2
}

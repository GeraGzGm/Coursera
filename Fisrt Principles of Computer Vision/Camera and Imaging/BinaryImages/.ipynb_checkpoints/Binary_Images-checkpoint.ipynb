{
 "cells": [
  {
   "cell_type": "markdown",
   "id": "5ec6bbb0",
   "metadata": {},
   "source": [
    "# Binary Image\n",
    "\n",
    "Processing of images with one object"
   ]
  },
  {
   "cell_type": "code",
   "execution_count": 1,
   "id": "61026292",
   "metadata": {},
   "outputs": [],
   "source": [
    "import cv2\n",
    "from IPython.display import Image\n",
    "from matplotlib import pyplot as plt\n",
    "import numpy as np\n",
    "from math import sqrt, atan2, sin, cos, tan\n"
   ]
  },
  {
   "cell_type": "code",
   "execution_count": 2,
   "id": "b704ecab",
   "metadata": {},
   "outputs": [],
   "source": [
    "file = 'C:/Users/gerag/Desktop/Coursera/Camera and Imaging/BinaryImages/pig.jpg'\n",
    "img = cv2.cvtColor(cv2.imread(file),cv2.COLOR_BGR2RGB)\n",
    "img_gray = cv2.cvtColor(img, cv2.COLOR_RGB2GRAY)\n",
    "\n",
    "img_bw = cv2.bitwise_not(cv2.threshold(img_gray, 230, 255, cv2.THRESH_BINARY)[1])/255 #Invert color\n",
    "\n",
    "cv2.imshow('RGB image',img)\n",
    "cv2.imshow('Gray image', img_gray)\n",
    "cv2.imshow('B&W image', img_bw)\n",
    "cv2.waitKey(0)\n",
    "cv2.destroyAllWindows()"
   ]
  },
  {
   "cell_type": "markdown",
   "id": "57a3a05e",
   "metadata": {},
   "source": [
    "### Area of the object (zeroth moment)\n",
    "\n",
    "\n",
    "$$ A = \\sum_{i=1}^{n} \\sum_{j=1}^{m} b_{ij}$$\n",
    "\n",
    "Where **n** and **m** are the size of the image."
   ]
  },
  {
   "cell_type": "code",
   "execution_count": 3,
   "id": "ae61ef68",
   "metadata": {},
   "outputs": [
    {
     "name": "stdout",
     "output_type": "stream",
     "text": [
      "The area of the image is 57860, while its height is 339 and its width is 509\n"
     ]
    }
   ],
   "source": [
    "n , m = img_bw.shape\n",
    "\n",
    "A = np.sum(np.sum(img_bw))\n",
    "print(\"The area of the image is {}, while its height is {} and its width is {}\".format(int(A),n,m))"
   ]
  },
  {
   "cell_type": "markdown",
   "id": "02198b44",
   "metadata": {},
   "source": [
    "### Center of area (position)\n",
    "\n",
    "Position ($\\bar{x},\\bar{y}$) of the object\n",
    "\n",
    " $$ \\bar{x} = \\frac{1}{A} \\sum_{i=1}^{n} \\sum_{j=1}^{m} i b_{ij} $$\n",
    " $$ \\bar{y} = \\frac{1}{A} \\sum_{i=1}^{n} \\sum_{j=1}^{m} j b_{ij} $$"
   ]
  },
  {
   "cell_type": "code",
   "execution_count": 4,
   "id": "6ae06d9a",
   "metadata": {},
   "outputs": [
    {
     "name": "stdout",
     "output_type": "stream",
     "text": [
      "The center of the object is (165.97120636017974,221.6731939163498)\n"
     ]
    }
   ],
   "source": [
    "x_bar = 0\n",
    "y_bar = 0\n",
    "\n",
    "for i in range(n):\n",
    "    for j in range(m):\n",
    "        x_bar = x_bar + i * img_bw[i,j]\n",
    "        y_bar = y_bar + j * img_bw[i,j]\n",
    "        \n",
    "x_bar *=  1/A\n",
    "y_bar *=  1/A       \n",
    "        \n",
    "print(\"The center of the object is ({},{})\".format(x_bar,y_bar))\n",
    "\n",
    "center = cv2.circle(cv2.cvtColor(img,cv2.COLOR_RGB2BGR), (int(y_bar),int(x_bar)), \n",
    "                    radius=5, color=(0, 0, 255), thickness=-1)\n",
    "\n",
    "cv2.imshow('Center of the object', center)\n",
    "cv2.waitKey(0)\n",
    "cv2.destroyAllWindows()"
   ]
  },
  {
   "cell_type": "markdown",
   "id": "64ef1da8",
   "metadata": {},
   "source": [
    "### Second Moments\n",
    "#### With respect to origin\n",
    "\n",
    "$$a' = \\sum_{i=1}^{n} \\sum_{j=1}^{m} i^2 b_{ij}$$\n",
    "$$b' = 2\\sum_{i=1}^{n} \\sum_{j=1}^{m} ij b_{ij}$$\n",
    "$$c' = \\sum_{i=1}^{n} \\sum_{j=1}^{m} j^2 b_{ij}$$"
   ]
  },
  {
   "cell_type": "code",
   "execution_count": 5,
   "id": "73ce60c9",
   "metadata": {},
   "outputs": [
    {
     "name": "stdout",
     "output_type": "stream",
     "text": [
      "a_ = 1789614320.0, b_ = 4400661604.0, c_ = 3422146595.0 \n"
     ]
    }
   ],
   "source": [
    "a_ = 0\n",
    "b_ = 0\n",
    "c_ = 0\n",
    "\n",
    "x_plot = 0\n",
    "y_plot = 0\n",
    "\n",
    "for i in range(n):\n",
    "    for j in range(m):\n",
    "        a_ += i**2 * img_bw[i,j]\n",
    "        b_ += i*j  * img_bw[i,j]\n",
    "        c_ += j**2 * img_bw[i,j]\n",
    "        \n",
    "b_ *= 2\n",
    "\n",
    "print(\"a_ = {}, b_ = {}, c_ = {} \".format(a_,b_,c_))\n",
    "\n"
   ]
  },
  {
   "cell_type": "markdown",
   "id": "384ce1bd",
   "metadata": {},
   "source": [
    "#### Image Moments\n",
    "\n",
    "$$ M_{p,q} =  \\sum_{i=1}^{n} \\sum_{j=1}^{m} i^p j^q I(i,j)$$\n",
    "\n",
    "Where M(0,0) is the Area of the Image\n",
    "\n",
    "We can obtain the centers by:\n",
    " $\\bar{x} = \\frac{M_{1,0}}{M_{0,0}}$ and $\\bar{y} = \\frac{M_{0,1}}{M_{0,0}}$\n",
    " \n",
    "and the second moments by:\n",
    "\n",
    "$$\\mu_{2,0}' = a = \\frac{M_{2,0}}{M_{0,0}} - \\bar{x}^2$$  \n",
    "$$\\mu_{1,1}' = b = \\frac{M_{1,1}}{M_{0,0}} - \\bar{x}\\bar{y}$$   \n",
    "$$\\mu_{0,2}' = c = \\frac{M_{0,2}}{M_{0,0}} - \\bar{y}^2$$\n",
    "\n",
    "And the covariance matrix of the binary object would be:\n",
    "\n",
    "$$ cov(Obj) = \\begin{bmatrix}\n",
    "\\mu_{2,0}' & \\mu_{1,1}'\\\\\n",
    "\\mu_{1,1}' & \\mu_{0,2}'\n",
    "\\end{bmatrix}$$\n"
   ]
  },
  {
   "cell_type": "code",
   "execution_count": 6,
   "id": "7d4a5cfc",
   "metadata": {},
   "outputs": [
    {
     "name": "stdout",
     "output_type": "stream",
     "text": [
      "Area = 57860.0, x_c = 165.97120636017974 , y_c = 221.6731939163498\n",
      "a_ = 31598.85065727266, b_ = 2474.327118598856, c_ = -18208.926781476588 \n"
     ]
    }
   ],
   "source": [
    "M = np.zeros((3,3))\n",
    "\n",
    "M = [[sum([i**p * j**q * img_bw[i,j] for i in range(n) for j in range(m)]) \n",
    "    for p in range(3)] for q in range(3)] #Zeroth to second order\n",
    "\n",
    "Area = M[0][0]\n",
    "row = M[1][0]/M[0][0]\n",
    "column = M[0][1]/M[0][0]\n",
    "\n",
    "#Covariance matrix\n",
    "Cov = np.zeros((2,2))\n",
    "\n",
    "\n",
    "Cov[0,0] = a_ = M[2][0]/M[0][0] - x_bar**2                 # mu' 2,0 or a\n",
    "Cov[0,1] = b_ = Cov[1,0] = 2*(M[1][1]/M[0][0] - x_bar*y_bar)   # mu' 1,1 or b\n",
    "Cov[1,1] = c_ = M[0][2]/M[0][0] - y_bar**2                 # mu' 0,2 or c\n",
    "\n",
    "print(\"Area = {}, x_c = {} , y_c = {}\".format(Area, x_bar, y_bar))\n",
    "print(\"a_ = {}, b_ = {}, c_ = {} \".format(Cov[0,0],Cov[0,1],Cov[1,1] ))"
   ]
  },
  {
   "cell_type": "markdown",
   "id": "bc11ea4e",
   "metadata": {},
   "source": [
    "#### Orientation\n",
    "$$\\theta = \\frac{1}{2} tan^{-1}\\left( \\frac{2\\mu_{1,1}'}{\\mu_{2,0}' - \\mu_{0,2}'} \\right)$$\n",
    "\n",
    "#### Mayor and Minor axis\n",
    "\n",
    "$$max = \\sqrt{ 8  \\left( a + c + \\sqrt{4b^2 + (a - c)^2}\\right)^2 }$$\n",
    "$$min = \\sqrt{ 8  \\left( a + c - \\sqrt{4b^2 + (a - c)^2}\\right)^2 }$$\n",
    "\n",
    "#### Roundedness\n",
    "$$R = \\frac{min}{max} , [0,1]$$\n",
    "\n",
    "#### Orientation axis\n",
    "$$p = \\bar{y}cos(\\theta) - \\bar{x}sin(\\theta)$$\n"
   ]
  },
  {
   "cell_type": "code",
   "execution_count": 8,
   "id": "40fbd177",
   "metadata": {},
   "outputs": [
    {
     "name": "stdout",
     "output_type": "stream",
     "text": [
      "Error\n",
      "Orientation: 0.04951502391391015(deg: 2.8370018927563945) \n",
      "min_: 0, max_: 712.4208559328434 \n",
      "Roundedness: 0.0\n"
     ]
    }
   ],
   "source": [
    "theta = 1/2 * atan2(2*Cov[0,1], Cov[0,0] - Cov[1,1])\n",
    "\n",
    "max_ = 0\n",
    "min_ = 0\n",
    "\n",
    "try:\n",
    "    max_ = sqrt( 8*( a_ + c_ + sqrt(4*b_**2 + (a_-c_)**2) ) )\n",
    "    min_ = sqrt( 8*( a_ + c_ - sqrt(4*b_**2 + (a_-c_)**2) ) )\n",
    "except:\n",
    "    print(\"Error\")\n",
    "\n",
    "R = min_/max_\n",
    "\n",
    "print(\"Orientation: {}(deg: {}) \\nmin_: {}, max_: {} \\nRoundedness: {}\"\n",
    "      .format(theta, np.rad2deg(theta),min_, max_,R))"
   ]
  },
  {
   "cell_type": "code",
   "execution_count": 9,
   "id": "d0de2e59",
   "metadata": {},
   "outputs": [],
   "source": [
    "p = -column*cos(theta) + row*sin(theta)\n",
    "xy = [[int((i*cos(theta)+p)/sin(theta)),i] for i in range(n)]\n",
    "xy = np.array(xy)\n",
    "xy = xy.reshape((-1,1,2))\n",
    "\n",
    "\n",
    "center = cv2.circle(cv2.cvtColor(img,cv2.COLOR_RGB2BGR), (int(row),int(column)), \n",
    "                    radius=8, color=(255, 0, 0), thickness=-1)\n",
    "\n",
    "image = cv2.polylines(center, [xy], False, (0, 0, 255), 2)\n",
    "\n",
    "cv2.imshow('Center of the object', image)\n",
    "cv2.waitKey(0)\n",
    "cv2.destroyAllWindows()"
   ]
  },
  {
   "cell_type": "code",
   "execution_count": 11,
   "id": "7c8d3cd6",
   "metadata": {},
   "outputs": [
    {
     "data": {
      "text/plain": [
       "0.04951502391391015"
      ]
     },
     "execution_count": 11,
     "metadata": {},
     "output_type": "execute_result"
    }
   ],
   "source": [
    "theta"
   ]
  },
  {
   "cell_type": "code",
   "execution_count": null,
   "id": "04ad76e4",
   "metadata": {},
   "outputs": [],
   "source": []
  },
  {
   "cell_type": "code",
   "execution_count": null,
   "id": "edc8a88f",
   "metadata": {},
   "outputs": [],
   "source": []
  }
 ],
 "metadata": {
  "kernelspec": {
   "display_name": "Python 3",
   "language": "python",
   "name": "python3"
  },
  "language_info": {
   "codemirror_mode": {
    "name": "ipython",
    "version": 3
   },
   "file_extension": ".py",
   "mimetype": "text/x-python",
   "name": "python",
   "nbconvert_exporter": "python",
   "pygments_lexer": "ipython3",
   "version": "3.8.8"
  },
  "vscode": {
   "interpreter": {
    "hash": "821310d70b4992712a2baba0307fa79422f77854d6739635a34f51c50a329e5e"
   }
  }
 },
 "nbformat": 4,
 "nbformat_minor": 5
}
